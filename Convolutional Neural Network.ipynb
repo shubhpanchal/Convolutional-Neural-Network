{
 "cells": [
  {
   "cell_type": "code",
   "execution_count": 1,
   "id": "4ba45215",
   "metadata": {},
   "outputs": [],
   "source": [
    "import tensorflow as tf\n",
    "from keras.preprocessing.image import ImageDataGenerator"
   ]
  },
  {
   "cell_type": "code",
   "execution_count": 2,
   "id": "5fc21ccb",
   "metadata": {},
   "outputs": [
    {
     "data": {
      "text/plain": [
       "'2.3.0'"
      ]
     },
     "execution_count": 2,
     "metadata": {},
     "output_type": "execute_result"
    }
   ],
   "source": [
    "tf.__version__"
   ]
  },
  {
   "cell_type": "markdown",
   "id": "a3de21ea",
   "metadata": {},
   "source": [
    "## Preprocessing the training dataset"
   ]
  },
  {
   "cell_type": "code",
   "execution_count": 3,
   "id": "fa9c626b",
   "metadata": {},
   "outputs": [
    {
     "name": "stdout",
     "output_type": "stream",
     "text": [
      "Found 8000 images belonging to 2 classes.\n"
     ]
    }
   ],
   "source": [
    "train_datagen = ImageDataGenerator(rescale= 1./255,\n",
    "                                  shear_range=0.2,\n",
    "                                  zoom_range=0.2,\n",
    "                                  horizontal_flip=True)\n",
    "\n",
    "training_set = train_datagen.flow_from_directory('training_set',\n",
    "                                                target_size=(64,64),\n",
    "                                                batch_size=32,\n",
    "                                                class_mode='binary')"
   ]
  },
  {
   "cell_type": "code",
   "execution_count": 5,
   "id": "1c45ebdc",
   "metadata": {},
   "outputs": [
    {
     "name": "stdout",
     "output_type": "stream",
     "text": [
      "Found 2000 images belonging to 2 classes.\n"
     ]
    }
   ],
   "source": [
    "test_datagen = ImageDataGenerator(rescale=1./255)\n",
    "test_set = test_datagen.flow_from_directory('test_set',\n",
    "                                                 target_size=(64,64),\n",
    "                                                 batch_size=32,\n",
    "                                                 class_mode='binary')"
   ]
  },
  {
   "cell_type": "markdown",
   "id": "a83161b9",
   "metadata": {},
   "source": [
    "## Building the Convolutional Neural Network"
   ]
  },
  {
   "cell_type": "code",
   "execution_count": 6,
   "id": "c3599c5d",
   "metadata": {},
   "outputs": [],
   "source": [
    "# Initializing the CNN\n",
    "cnn = tf.keras.models.Sequential()"
   ]
  },
  {
   "cell_type": "code",
   "execution_count": 7,
   "id": "c16530b4",
   "metadata": {},
   "outputs": [],
   "source": [
    "# Step-1 Convolution\n",
    "cnn.add(tf.keras.layers.Conv2D(filters=32, kernel_size=3, activation='relu', input_shape=[64,64,3]))"
   ]
  },
  {
   "cell_type": "code",
   "execution_count": 8,
   "id": "5c774347",
   "metadata": {},
   "outputs": [],
   "source": [
    "# Step-2 Pooling\n",
    "cnn.add(tf.keras.layers.MaxPool2D(pool_size=2,strides=2))"
   ]
  },
  {
   "cell_type": "code",
   "execution_count": 9,
   "id": "bb8b2d68",
   "metadata": {},
   "outputs": [],
   "source": [
    "# Adding a second convolution network\n",
    "cnn.add(tf.keras.layers.Conv2D(filters=32, kernel_size=3, activation='relu'))\n",
    "cnn.add(tf.keras.layers.MaxPool2D(pool_size=2,strides=2))"
   ]
  },
  {
   "cell_type": "markdown",
   "id": "70bb8019",
   "metadata": {},
   "source": [
    "## Flattening"
   ]
  },
  {
   "cell_type": "code",
   "execution_count": 10,
   "id": "0c414d38",
   "metadata": {},
   "outputs": [],
   "source": [
    "cnn.add(tf.keras.layers.Flatten())"
   ]
  },
  {
   "cell_type": "markdown",
   "id": "1be6f967",
   "metadata": {},
   "source": [
    "## Full Connection"
   ]
  },
  {
   "cell_type": "code",
   "execution_count": 12,
   "id": "2957077a",
   "metadata": {},
   "outputs": [],
   "source": [
    "cnn.add(tf.keras.layers.Dense(units=128,activation='relu'))"
   ]
  },
  {
   "cell_type": "markdown",
   "id": "ed92d156",
   "metadata": {},
   "source": [
    "## Output Layer"
   ]
  },
  {
   "cell_type": "code",
   "execution_count": 13,
   "id": "77e2e0ab",
   "metadata": {},
   "outputs": [],
   "source": [
    "cnn.add(tf.keras.layers.Dense(units=1,activation='sigmoid'))"
   ]
  },
  {
   "cell_type": "markdown",
   "id": "e2ecf479",
   "metadata": {},
   "source": [
    "# Training the CNN"
   ]
  },
  {
   "cell_type": "markdown",
   "id": "068ddec7",
   "metadata": {},
   "source": [
    "### Compiling the CNN"
   ]
  },
  {
   "cell_type": "code",
   "execution_count": 14,
   "id": "9034ac1b",
   "metadata": {},
   "outputs": [],
   "source": [
    "cnn.compile(optimizer='adam', loss='binary_crossentropy', metrics=['accuracy'])"
   ]
  },
  {
   "cell_type": "code",
   "execution_count": 15,
   "id": "d24afd14",
   "metadata": {},
   "outputs": [
    {
     "name": "stdout",
     "output_type": "stream",
     "text": [
      "Epoch 1/30\n",
      "250/250 [==============================] - 82s 329ms/step - loss: 0.6565 - accuracy: 0.6084 - val_loss: 0.5931 - val_accuracy: 0.6910\n",
      "Epoch 2/30\n",
      "250/250 [==============================] - 29s 115ms/step - loss: 0.5865 - accuracy: 0.6827 - val_loss: 0.5668 - val_accuracy: 0.7115\n",
      "Epoch 3/30\n",
      "250/250 [==============================] - 30s 119ms/step - loss: 0.5386 - accuracy: 0.7299 - val_loss: 0.5156 - val_accuracy: 0.7450\n",
      "Epoch 4/30\n",
      "250/250 [==============================] - 29s 118ms/step - loss: 0.5192 - accuracy: 0.7434 - val_loss: 0.4939 - val_accuracy: 0.7635\n",
      "Epoch 5/30\n",
      "250/250 [==============================] - 30s 118ms/step - loss: 0.4951 - accuracy: 0.7533 - val_loss: 0.4879 - val_accuracy: 0.7670\n",
      "Epoch 6/30\n",
      "250/250 [==============================] - 30s 118ms/step - loss: 0.4682 - accuracy: 0.7772 - val_loss: 0.5095 - val_accuracy: 0.7560\n",
      "Epoch 7/30\n",
      "250/250 [==============================] - 30s 118ms/step - loss: 0.4562 - accuracy: 0.7809 - val_loss: 0.5339 - val_accuracy: 0.7475\n",
      "Epoch 8/30\n",
      "250/250 [==============================] - 29s 117ms/step - loss: 0.4347 - accuracy: 0.7958 - val_loss: 0.4754 - val_accuracy: 0.7865\n",
      "Epoch 9/30\n",
      "250/250 [==============================] - 29s 118ms/step - loss: 0.4242 - accuracy: 0.8009 - val_loss: 0.4670 - val_accuracy: 0.7785\n",
      "Epoch 10/30\n",
      "250/250 [==============================] - 30s 119ms/step - loss: 0.4081 - accuracy: 0.8105 - val_loss: 0.4963 - val_accuracy: 0.7875\n",
      "Epoch 11/30\n",
      "250/250 [==============================] - 29s 118ms/step - loss: 0.3995 - accuracy: 0.8111 - val_loss: 0.4925 - val_accuracy: 0.7875\n",
      "Epoch 12/30\n",
      "250/250 [==============================] - 29s 117ms/step - loss: 0.3897 - accuracy: 0.8211 - val_loss: 0.5175 - val_accuracy: 0.7815\n",
      "Epoch 13/30\n",
      "250/250 [==============================] - 30s 118ms/step - loss: 0.3760 - accuracy: 0.8324 - val_loss: 0.4783 - val_accuracy: 0.7900\n",
      "Epoch 14/30\n",
      "250/250 [==============================] - 30s 119ms/step - loss: 0.3647 - accuracy: 0.8399 - val_loss: 0.5037 - val_accuracy: 0.7840\n",
      "Epoch 15/30\n",
      "250/250 [==============================] - 29s 117ms/step - loss: 0.3466 - accuracy: 0.8438 - val_loss: 0.4567 - val_accuracy: 0.7985\n",
      "Epoch 16/30\n",
      "250/250 [==============================] - 29s 117ms/step - loss: 0.3400 - accuracy: 0.8505 - val_loss: 0.4526 - val_accuracy: 0.8090\n",
      "Epoch 17/30\n",
      "250/250 [==============================] - 29s 117ms/step - loss: 0.3264 - accuracy: 0.8555 - val_loss: 0.4812 - val_accuracy: 0.8100\n",
      "Epoch 18/30\n",
      "250/250 [==============================] - 30s 118ms/step - loss: 0.3089 - accuracy: 0.8625 - val_loss: 0.4508 - val_accuracy: 0.8120\n",
      "Epoch 19/30\n",
      "250/250 [==============================] - 29s 117ms/step - loss: 0.3000 - accuracy: 0.8689 - val_loss: 0.4833 - val_accuracy: 0.8105\n",
      "Epoch 20/30\n",
      "250/250 [==============================] - 31s 125ms/step - loss: 0.2940 - accuracy: 0.8741 - val_loss: 0.5907 - val_accuracy: 0.7840\n",
      "Epoch 21/30\n",
      "250/250 [==============================] - 30s 119ms/step - loss: 0.2725 - accuracy: 0.8820 - val_loss: 0.4811 - val_accuracy: 0.8130\n",
      "Epoch 22/30\n",
      "250/250 [==============================] - 29s 117ms/step - loss: 0.2643 - accuracy: 0.8867 - val_loss: 0.5097 - val_accuracy: 0.8040\n",
      "Epoch 23/30\n",
      "250/250 [==============================] - 31s 123ms/step - loss: 0.2612 - accuracy: 0.8891 - val_loss: 0.5363 - val_accuracy: 0.8010\n",
      "Epoch 24/30\n",
      "250/250 [==============================] - 30s 120ms/step - loss: 0.2384 - accuracy: 0.8985 - val_loss: 0.5949 - val_accuracy: 0.7880\n",
      "Epoch 25/30\n",
      "250/250 [==============================] - 30s 121ms/step - loss: 0.2334 - accuracy: 0.9028 - val_loss: 0.4817 - val_accuracy: 0.8145\n",
      "Epoch 26/30\n",
      "250/250 [==============================] - 29s 117ms/step - loss: 0.2143 - accuracy: 0.9130 - val_loss: 0.5688 - val_accuracy: 0.8075\n",
      "Epoch 27/30\n",
      "250/250 [==============================] - 30s 120ms/step - loss: 0.2023 - accuracy: 0.9175 - val_loss: 0.6438 - val_accuracy: 0.7890\n",
      "Epoch 28/30\n",
      "250/250 [==============================] - 30s 118ms/step - loss: 0.1957 - accuracy: 0.9218 - val_loss: 0.6043 - val_accuracy: 0.8065\n",
      "Epoch 29/30\n",
      "250/250 [==============================] - 30s 118ms/step - loss: 0.1995 - accuracy: 0.9222 - val_loss: 0.6973 - val_accuracy: 0.7785\n",
      "Epoch 30/30\n",
      "250/250 [==============================] - 30s 119ms/step - loss: 0.1799 - accuracy: 0.9269 - val_loss: 0.5974 - val_accuracy: 0.7975\n"
     ]
    },
    {
     "data": {
      "text/plain": [
       "<tensorflow.python.keras.callbacks.History at 0x202066cd220>"
      ]
     },
     "execution_count": 15,
     "metadata": {},
     "output_type": "execute_result"
    }
   ],
   "source": [
    "cnn.fit(x=training_set, validation_data=test_set,epochs=30)"
   ]
  },
  {
   "cell_type": "code",
   "execution_count": 21,
   "id": "0c1b36d9",
   "metadata": {},
   "outputs": [
    {
     "name": "stdout",
     "output_type": "stream",
     "text": [
      "C:\\Users\\shubh\\My python\\DeepLearning\\CNN\\dataset\n"
     ]
    }
   ],
   "source": [
    "import os\n",
    "print(os.getcwd())"
   ]
  },
  {
   "cell_type": "code",
   "execution_count": 57,
   "id": "cca42e98",
   "metadata": {},
   "outputs": [],
   "source": [
    "import numpy as np\n",
    "from keras.preprocessing import image\n",
    "test_image = image.load_img('single_prediction\\cat_or_dog_2.jpg',target_size=(64,64))\n",
    "test_image= image.img_to_array(test_image)\n",
    "test_image = np.expand_dims(test_image, axis = 0)\n",
    "result = cnn.predict(test_image/255.0)\n",
    "training_set.class_indices\n",
    "if result[0][0] > 0.5:\n",
    "  prediction = 'dog'\n",
    "else:\n",
    "  prediction = 'cat'"
   ]
  },
  {
   "cell_type": "code",
   "execution_count": 58,
   "id": "06357704",
   "metadata": {},
   "outputs": [
    {
     "name": "stdout",
     "output_type": "stream",
     "text": [
      "dog\n"
     ]
    }
   ],
   "source": [
    "print(prediction)"
   ]
  },
  {
   "cell_type": "code",
   "execution_count": null,
   "id": "6228dd29",
   "metadata": {},
   "outputs": [],
   "source": []
  }
 ],
 "metadata": {
  "kernelspec": {
   "display_name": "Python 3",
   "language": "python",
   "name": "python3"
  },
  "language_info": {
   "codemirror_mode": {
    "name": "ipython",
    "version": 3
   },
   "file_extension": ".py",
   "mimetype": "text/x-python",
   "name": "python",
   "nbconvert_exporter": "python",
   "pygments_lexer": "ipython3",
   "version": "3.8.8"
  }
 },
 "nbformat": 4,
 "nbformat_minor": 5
}
